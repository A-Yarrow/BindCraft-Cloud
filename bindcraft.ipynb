{
 "cells": [
  {
   "cell_type": "code",
   "execution_count": null,
   "id": "e18b2d75",
   "metadata": {},
   "outputs": [
    {
     "name": "stdout",
     "output_type": "stream",
     "text": [
      "Docker version 28.2.2, build e6534b4\n"
     ]
    }
   ],
   "source": [
    "%%bash\n",
    "version = $(docker --version 2> /dev/null)\n",
    "\n",
    "if [ -n \"$version\"]; then\n",
    "    echo \"Docker is installed: $version\"\n",
    "    docker pull yarrowdocker/bindcraft:latest\n",
    "else\n",
    "    echo \"Docker is not installed. Please install Docker to proceed.\"\n",
    "    exit 1\n",
    "fi\n"
   ]
  },
  {
   "cell_type": "code",
   "execution_count": null,
   "id": "335670b9",
   "metadata": {},
   "outputs": [],
   "source": [
    "%%bash\n",
    "mkdir -p root/bindcraft\n",
    "cd root/bindcraft\n",
    "pwd"
   ]
  },
  {
   "cell_type": "code",
   "execution_count": null,
   "id": "ac4de714",
   "metadata": {},
   "outputs": [
    {
     "name": "stderr",
     "output_type": "stream",
     "text": [
      "test output\n"
     ]
    }
   ],
   "source": [
    "%%bash\n",
    "git clone https://github.com/A-Yarrow/BindCraft-Cloud.git ."
   ]
  },
  {
   "cell_type": "code",
   "execution_count": null,
   "id": "311f9012",
   "metadata": {},
   "outputs": [],
   "source": [
    "%%bash\n",
    "\n",
    "# AF2 weight download (avoid storing in the Docker image)\n",
    "# Ensure expected weights are mounted externally and accessible\n",
    "\n",
    "params_dir=\"params\"\n",
    "\n",
    "mkdir -p \"${params_dir}\" \n",
    "cd \"${params_dir}\" \n",
    "wget --progress=dot:giga https://storage.googleapis.com/alphafold/alphafold_params_2022-12-06.tar \n",
    "tar -xvf alphafold_params_2022-12-06.tar \n",
    "rm alphafold_params_2022-12-06.tar \n",
    "cd ..\n",
    "\n",
    "if [ ! -f \"${params_dir}/params_model_5_ptm.npz\" ]; then\n",
    "    echo -e \"Error: AlphaFold2 weights not found in ${params_dir}.\"\n",
    "    echo -e \"Please mount the weights directory to /app/bindcraft/params when running the container.\"\n",
    "    exit 1\n",
    "else\n",
    "    echo -e \"AlphaFold2 weights found at ${params_dir}\"\n",
    "fi"
   ]
  },
  {
   "cell_type": "code",
   "execution_count": null,
   "id": "7091b6a5",
   "metadata": {},
   "outputs": [
    {
     "name": "stdout",
     "output_type": "stream",
     "text": [
      "a42475b8b8ee30f9d59f29e2d83ef909a525d4045c378f2982bbfe8fd0be1e5c\n"
     ]
    }
   ],
   "source": [
    "%%bash\n",
    "# Run Bindcraft docker container in background\n",
    "# Add \"--gpus all\" when running in production \n",
    "docker run -dit --name bindcraft_session \\\n",
    "  -v $(pwd)/settings_target:/app/bindcraft/settings_target \\\n",
    "  -v $(pwd)/settings_filters:/app/bindcraft/settings_filters \\\n",
    "  -v $(pwd)/settings_advanced:/app/bindcraft/settings_advanced \\\n",
    "  -v $(pwd)/params:/app/bindcraft/params \\\n",
    "  bindcraft:latest bash\n"
   ]
  },
  {
   "cell_type": "code",
   "execution_count": null,
   "id": "0ddceb70",
   "metadata": {},
   "outputs": [
    {
     "name": "stdout",
     "output_type": "stream",
     "text": [
      "\n",
      "Pinned packages:\n",
      "\n",
      "  - python=3.10\n",
      "\n",
      "\n",
      "Transaction\n",
      "\n",
      "  Prefix: /opt/conda/envs/BindCraft\n",
      "\n",
      "  Updating specs:\n",
      "\n",
      "   - pyrosetta\n",
      "\n",
      "\n",
      "  Package                         Version  Build       Channel                   Size\n",
      "────��──────────────────────────────────────────────────────────────────���───────────────\n",
      "  Install:\n",
      "─────────────��──────────────────────────────────────────────────────────────────���──────\n",
      "\n",
      "  + pyrosetta  2025.24+release.8e1e5e54f0  py310_0     conda.graylab.jhu.edu      1GB\n",
      "  + zlib                            1.3.1  hb9d3cd8_2  conda-forge               92kB\n",
      "\n",
      "  Summary:\n",
      "\n",
      "  Install: 2 packages\n",
      "\n",
      "  Total download: 1GB\n",
      "\n",
      "───────────────��──────────────────────────────────────────────────────────────────���────\n",
      "\n",
      "\n",
      "\n",
      "Transaction starting\n"
     ]
    }
   ],
   "source": [
    "\n",
    "%%bash\n",
    "# Install PyRosetta in the Bindcraft docker container\n",
    "# This is done in the container to avoid installing it in the image.\n",
    "# Before running this cell, make sure you agree to the terms of use:\n",
    "# https://github.com/RosettaCommons/rosetta/blob/main/LICENSE.PyRosetta.md\n",
    "\n",
    "docker exec -u root bindcraft_session bash -c \"\n",
    "  source /opt/conda/etc/profile.d/conda.sh && \\\n",
    "  conda activate BindCraft && \\\n",
    "  mkdir -p /app/pyrosetta && \\\n",
    "  cd /app/pyrosetta && \\\n",
    "  mamba install pyrosetta -c https://conda.graylab.jhu.edu -y\n",
    "  \"\n"
   ]
  },
  {
   "cell_type": "code",
   "execution_count": null,
   "id": "32763abb",
   "metadata": {},
   "outputs": [],
   "source": [
    "# Run Bindcraft with the specified settings and filters\n",
    "%%bash\n",
    "target=\"PDL1.json\"  # Change this to your target file name\n",
    "if [ ! -f \"$(pwd)/settings_target/$target\" ]; then\n",
    "  echo \"Target file $target not found in targets directory.\"\n",
    "  exit 1\n",
    "fi\n",
    "docker exec bindcraft_session bash -c \"\n",
    "  python /app/bindcraft/bindcraft.py \\\n",
    "    --settings /app/bindcraft/settings_target/$target \\\n",
    "    --filters /app/bindcraft/settings_filters/default_filters.json \\\n",
    "    --advanced /app/bindcraft/settings_advanced/default_4stage_multimer.json\""
   ]
  },
  {
   "cell_type": "code",
   "execution_count": null,
   "id": "76b830dd",
   "metadata": {},
   "outputs": [
    {
     "ename": "ModuleNotFoundError",
     "evalue": "No module named 'ipywidgets'",
     "output_type": "error",
     "traceback": [
      "\u001b[0;31m---------------------------------------------------------------------------\u001b[0m",
      "\u001b[0;31mModuleNotFoundError\u001b[0m                       Traceback (most recent call last)",
      "Cell \u001b[0;32mIn[4], line 2\u001b[0m\n\u001b[1;32m      1\u001b[0m \u001b[38;5;28;01mimport\u001b[39;00m\u001b[38;5;250m \u001b[39m\u001b[38;5;21;01mjson\u001b[39;00m\n\u001b[0;32m----> 2\u001b[0m \u001b[38;5;28;01mimport\u001b[39;00m\u001b[38;5;250m \u001b[39m\u001b[38;5;21;01mipywidgets\u001b[39;00m\u001b[38;5;250m \u001b[39m\u001b[38;5;28;01mas\u001b[39;00m\u001b[38;5;250m \u001b[39m\u001b[38;5;21;01mwidgets\u001b[39;00m\n\u001b[1;32m      3\u001b[0m \u001b[38;5;28;01mfrom\u001b[39;00m\u001b[38;5;250m \u001b[39m\u001b[38;5;21;01mIPython\u001b[39;00m\u001b[38;5;21;01m.\u001b[39;00m\u001b[38;5;21;01mdisplay\u001b[39;00m\u001b[38;5;250m \u001b[39m\u001b[38;5;28;01mimport\u001b[39;00m display\n\u001b[1;32m      5\u001b[0m \u001b[38;5;66;03m# Example JSON settings dict (like what you'd have in your settings file)\u001b[39;00m\n",
      "\u001b[0;31mModuleNotFoundError\u001b[0m: No module named 'ipywidgets'"
     ]
    }
   ],
   "source": [
    "\n",
    "import json\n",
    "import ipywidgets as widgets\n",
    "from IPython.display import display\n",
    "\n",
    "# Example JSON settings dict (like what you'd have in your settings file)\n",
    "settings = {\n",
    "    \"binder_length\": 50,\n",
    "    \"temperature\": 300,\n",
    "    \"use_multimer\": True,\n",
    "    \"target_name\": \"PDL1\"\n",
    "}\n",
    "\n",
    "# Create widgets matching those fields\n",
    "binder_length_widget = widgets.IntSlider(value=settings[\"binder_length\"], min=10, max=100, description='Binder Length')\n",
    "temperature_widget = widgets.IntText(value=settings[\"temperature\"], description='Temperature (K)')\n",
    "use_multimer_widget = widgets.Checkbox(value=settings[\"use_multimer\"], description='Use Multimer')\n",
    "target_name_widget = widgets.Text(value=settings[\"target_name\"], description='Target Name')\n",
    "\n",
    "# Display widgets\n",
    "display(binder_length_widget, temperature_widget, use_multimer_widget, target_name_widget)\n",
    "\n",
    "# Button to save the current widget values back to JSON file\n",
    "save_button = widgets.Button(description=\"Save Settings\")\n",
    "\n",
    "output = widgets.Output()\n",
    "\n",
    "def save_clicked(b):\n",
    "    # Update dict from widget values\n",
    "    settings[\"binder_length\"] = binder_length_widget.value\n",
    "    settings[\"temperature\"] = temperature_widget.value\n",
    "    settings[\"use_multimer\"] = use_multimer_widget.value\n",
    "    settings[\"target_name\"] = target_name_widget.value\n",
    "    \n",
    "    # Save to JSON file\n",
    "    with open(\"settings_output.json\", \"w\") as f:\n",
    "        json.dump(settings, f, indent=2)\n",
    "    \n",
    "    with output:\n",
    "        output.clear_output()\n",
    "        print(\"Settings saved to settings_output.json\")\n",
    "\n",
    "save_button.on_click(save_clicked)\n",
    "\n",
    "display(save_button, output)\n"
   ]
  },
  {
   "cell_type": "code",
   "execution_count": null,
   "id": "bb004c7b",
   "metadata": {},
   "outputs": [],
   "source": []
  }
 ],
 "metadata": {
  "kernelspec": {
   "display_name": "base",
   "language": "python",
   "name": "python3"
  },
  "language_info": {
   "codemirror_mode": {
    "name": "ipython",
    "version": 3
   },
   "file_extension": ".py",
   "mimetype": "text/x-python",
   "name": "python",
   "nbconvert_exporter": "python",
   "pygments_lexer": "ipython3",
   "version": "3.10.16"
  }
 },
 "nbformat": 4,
 "nbformat_minor": 5
}
