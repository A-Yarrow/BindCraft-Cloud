{
 "cells": [
  {
   "cell_type": "code",
   "execution_count": null,
   "id": "e18b2d75",
   "metadata": {},
   "outputs": [],
   "source": [
    "# AF2 weight download (avoid storing in the Docker image)\n",
    "!mkdir -p weights && \\\n",
    "cd weights && \\\n",
    "wget https://storage.googleapis.com/alphafold/alphafold_params_2022-12-06.tar && \\\n",
    "tar -xvf alphafold_params_2022-12-06.tar && \\\n",
    "rm alphafold_params_2022-12-06.tar && \\\n",
    "cd .."
   ]
  },
  {
   "cell_type": "markdown",
   "id": "2577090b",
   "metadata": {},
   "source": [
    "## PyRosetta Manual Step\n",
    "\n",
    "You must manually download PyRosetta before continuing:\n",
    "\n",
    "1. Visit: https://www.pyrosetta.org/home/licensing-pyrosetta\n",
    "2. Register for academic use\n",
    "3. Download `.conda` file (e.g. `pyrosetta-2025.22+release.957f89124e.conda`)\n",
    "    Go to `https://conda.graylab.jhu.edu`  and for example, navigate to the following:\n",
    "    `https://conda.graylab.jhu.edu/linux-64/rosetta-2025.24+release.8e1e5e54f0-0.conda`\n",
    "4. Place it in the **same folder** as this notebook.\n",
    "5. Do not rename it.\n",
    "\n",
    "The next cell will mount and install it inside the container.\n",
    "\n",
    "**Do not share or redistribute the file**. This step must be done manually due to license restrictions.\n"
   ]
  },
  {
   "cell_type": "code",
   "execution_count": null,
   "id": "7993973b",
   "metadata": {},
   "outputs": [],
   "source": [
    "%%bash\n",
    "docker run --gpus all -dit --name bindcraft_session \\\n",
    "  -v $(pwd)/targets:/app/bindcraft/targets \\\n",
    "  -v $(pwd)/output:/app/bindcraft/output \\\n",
    "  -v $(pwd)/weights:/app/bindcraft/params \\\n",
    "  -v $(pwd)/pyrosetta-2025.22+release.957f89124e.conda:/app/bindcraft/pyrosetta.conda \\\n",
    "  bindcraft:latest bash"
   ]
  },
  {
   "cell_type": "code",
   "execution_count": null,
   "id": "0ddceb70",
   "metadata": {},
   "outputs": [],
   "source": [
    "%%bash\n",
    "docker exec -u root bindcraft_session bash -c \"\n",
    "  source /opt/conda/etc/profile.d/conda.sh && \\\n",
    "  conda activate bindcraft && \\\n",
    "  mkdir -p /app/pyrosetta && \\\n",
    "  cd /app/pyrosetta && \\\n",
    "  mamba install pyrosetta -c https://conda.graylab.jhu.edu -y\"\n"
   ]
  },
  {
   "cell_type": "code",
   "execution_count": null,
   "id": "00e86920",
   "metadata": {},
   "outputs": [],
   "source": [
    "%%bash\n",
    "docker exec bindcraft_session bash -c \"\n",
    "  source /opt/conda/etc/profile.d/conda.sh && \\\n",
    "  conda activate bindcraft && \\\n",
    "  conda install /app/bindcraft/pyrosetta.conda -y\""
   ]
  },
  {
   "cell_type": "code",
   "execution_count": null,
   "id": "32763abb",
   "metadata": {},
   "outputs": [],
   "source": [
    "%%bash\n",
    "docker exec bindcraft_session bash -c \"\n",
    "  source /opt/conda/etc/profile.d/conda.sh && \\\n",
    "  conda activate bindcraft && \\\n",
    "  python /app/bindcraft/bindcraft.py \\\n",
    "    --settings /app/bindcraft/targets/my_target.json \\\n",
    "    --filters /app/bindcraft/settings_filters/default_filters.json \\\n",
    "    --advanced /app/bindcraft/settings_advanced/default_4stage_multimer.json\""
   ]
  },
  {
   "cell_type": "code",
   "execution_count": null,
   "id": "76b830dd",
   "metadata": {},
   "outputs": [
    {
     "ename": "ModuleNotFoundError",
     "evalue": "No module named 'ipywidgets'",
     "output_type": "error",
     "traceback": [
      "\u001b[0;31m---------------------------------------------------------------------------\u001b[0m",
      "\u001b[0;31mModuleNotFoundError\u001b[0m                       Traceback (most recent call last)",
      "Cell \u001b[0;32mIn[4], line 2\u001b[0m\n\u001b[1;32m      1\u001b[0m \u001b[38;5;28;01mimport\u001b[39;00m\u001b[38;5;250m \u001b[39m\u001b[38;5;21;01mjson\u001b[39;00m\n\u001b[0;32m----> 2\u001b[0m \u001b[38;5;28;01mimport\u001b[39;00m\u001b[38;5;250m \u001b[39m\u001b[38;5;21;01mipywidgets\u001b[39;00m\u001b[38;5;250m \u001b[39m\u001b[38;5;28;01mas\u001b[39;00m\u001b[38;5;250m \u001b[39m\u001b[38;5;21;01mwidgets\u001b[39;00m\n\u001b[1;32m      3\u001b[0m \u001b[38;5;28;01mfrom\u001b[39;00m\u001b[38;5;250m \u001b[39m\u001b[38;5;21;01mIPython\u001b[39;00m\u001b[38;5;21;01m.\u001b[39;00m\u001b[38;5;21;01mdisplay\u001b[39;00m\u001b[38;5;250m \u001b[39m\u001b[38;5;28;01mimport\u001b[39;00m display\n\u001b[1;32m      5\u001b[0m \u001b[38;5;66;03m# Example JSON settings dict (like what you'd have in your settings file)\u001b[39;00m\n",
      "\u001b[0;31mModuleNotFoundError\u001b[0m: No module named 'ipywidgets'"
     ]
    }
   ],
   "source": [
    "\n",
    "import json\n",
    "import ipywidgets as widgets\n",
    "from IPython.display import display\n",
    "\n",
    "# Example JSON settings dict (like what you'd have in your settings file)\n",
    "settings = {\n",
    "    \"binder_length\": 50,\n",
    "    \"temperature\": 300,\n",
    "    \"use_multimer\": True,\n",
    "    \"target_name\": \"PDL1\"\n",
    "}\n",
    "\n",
    "# Create widgets matching those fields\n",
    "binder_length_widget = widgets.IntSlider(value=settings[\"binder_length\"], min=10, max=100, description='Binder Length')\n",
    "temperature_widget = widgets.IntText(value=settings[\"temperature\"], description='Temperature (K)')\n",
    "use_multimer_widget = widgets.Checkbox(value=settings[\"use_multimer\"], description='Use Multimer')\n",
    "target_name_widget = widgets.Text(value=settings[\"target_name\"], description='Target Name')\n",
    "\n",
    "# Display widgets\n",
    "display(binder_length_widget, temperature_widget, use_multimer_widget, target_name_widget)\n",
    "\n",
    "# Button to save the current widget values back to JSON file\n",
    "save_button = widgets.Button(description=\"Save Settings\")\n",
    "\n",
    "output = widgets.Output()\n",
    "\n",
    "def save_clicked(b):\n",
    "    # Update dict from widget values\n",
    "    settings[\"binder_length\"] = binder_length_widget.value\n",
    "    settings[\"temperature\"] = temperature_widget.value\n",
    "    settings[\"use_multimer\"] = use_multimer_widget.value\n",
    "    settings[\"target_name\"] = target_name_widget.value\n",
    "    \n",
    "    # Save to JSON file\n",
    "    with open(\"settings_output.json\", \"w\") as f:\n",
    "        json.dump(settings, f, indent=2)\n",
    "    \n",
    "    with output:\n",
    "        output.clear_output()\n",
    "        print(\"Settings saved to settings_output.json\")\n",
    "\n",
    "save_button.on_click(save_clicked)\n",
    "\n",
    "display(save_button, output)\n"
   ]
  },
  {
   "cell_type": "code",
   "execution_count": null,
   "id": "bb004c7b",
   "metadata": {},
   "outputs": [],
   "source": []
  }
 ],
 "metadata": {
  "kernelspec": {
   "display_name": "Python 3",
   "language": "python",
   "name": "python3"
  },
  "language_info": {
   "codemirror_mode": {
    "name": "ipython",
    "version": 3
   },
   "file_extension": ".py",
   "mimetype": "text/x-python",
   "name": "python",
   "nbconvert_exporter": "python",
   "pygments_lexer": "ipython3",
   "version": "3.10.16"
  }
 },
 "nbformat": 4,
 "nbformat_minor": 5
}
